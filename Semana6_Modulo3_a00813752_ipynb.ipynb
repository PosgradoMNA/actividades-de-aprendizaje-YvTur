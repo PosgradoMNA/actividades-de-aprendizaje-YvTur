{
  "nbformat": 4,
  "nbformat_minor": 0,
  "metadata": {
    "colab": {
      "provenance": [],
      "authorship_tag": "ABX9TyOft0A6qx8o61hIMJN/7qyz",
      "include_colab_link": true
    },
    "kernelspec": {
      "name": "python3",
      "display_name": "Python 3"
    },
    "language_info": {
      "name": "python"
    }
  },
  "cells": [
    {
      "cell_type": "markdown",
      "metadata": {
        "id": "view-in-github",
        "colab_type": "text"
      },
      "source": [
        "<a href=\"https://colab.research.google.com/github/PosgradoMNA/actividades-de-aprendizaje-YvTur/blob/main/Semana6_Modulo3_a00813752_ipynb.ipynb\" target=\"_parent\"><img src=\"https://colab.research.google.com/assets/colab-badge.svg\" alt=\"Open In Colab\"/></a>"
      ]
    },
    {
      "cell_type": "markdown",
      "source": [
        "# Data Analysis with python"
      ],
      "metadata": {
        "id": "rSOQ2G8OC3k8"
      }
    },
    {
      "cell_type": "markdown",
      "source": [
        "## Module 3"
      ],
      "metadata": {
        "id": "UTFnh24EC6hp"
      }
    },
    {
      "cell_type": "code",
      "execution_count": null,
      "metadata": {
        "id": "mQfOiBATCzOr"
      },
      "outputs": [],
      "source": []
    }
  ]
}
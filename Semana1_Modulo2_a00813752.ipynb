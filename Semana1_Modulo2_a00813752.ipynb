{
  "nbformat": 4,
  "nbformat_minor": 0,
  "metadata": {
    "colab": {
      "provenance": [],
      "authorship_tag": "ABX9TyMcl0zrC8zn8nylF8Dmr6Tl",
      "include_colab_link": true
    },
    "kernelspec": {
      "name": "python3",
      "display_name": "Python 3"
    },
    "language_info": {
      "name": "python"
    }
  },
  "cells": [
    {
      "cell_type": "markdown",
      "metadata": {
        "id": "view-in-github",
        "colab_type": "text"
      },
      "source": [
        "<a href=\"https://colab.research.google.com/github/PosgradoMNA/actividades-de-aprendizaje-YvTur/blob/main/Semana1_Modulo2_a00813752.ipynb\" target=\"_parent\"><img src=\"https://colab.research.google.com/assets/colab-badge.svg\" alt=\"Open In Colab\"/></a>"
      ]
    },
    {
      "cell_type": "markdown",
      "source": [
        "# Python 101 for Data Science"
      ],
      "metadata": {
        "id": "DbctGpV5hHfo"
      }
    },
    {
      "cell_type": "markdown",
      "source": [
        "## Module 2 - Data Structures"
      ],
      "metadata": {
        "id": "ZdsLXo1OhQDu"
      }
    },
    {
      "cell_type": "markdown",
      "source": [
        "**Tuples**\n",
        "\n",
        "The tuples are characterized to be writer in parenthesis.\n",
        "The example below:\n",
        "\n",
        "\n",
        "gallo=(0,1,2,3,4,5,6,7,8)\n",
        "\n",
        "The tuples work similar to the list. The main difference is they are immutables. You can not change it.\n",
        "\n",
        "\n",
        "\n"
      ],
      "metadata": {
        "id": "Irme_CZBiOq8"
      }
    },
    {
      "cell_type": "code",
      "source": [
        "#The tuples can have integers and strings combined\n",
        "gallo=(1,2,3)\n",
        "galla=(\"1\",\"2\",\"3\")\n",
        "print(type(gallo))\n",
        "\n",
        "print(type(galla))\n",
        "\n",
        "print(gallo+galla)"
      ],
      "metadata": {
        "colab": {
          "base_uri": "https://localhost:8080/"
        },
        "id": "K0IXpvaJhOyD",
        "outputId": "8eceac47-4c78-4174-ebf5-799b223406d4"
      },
      "execution_count": null,
      "outputs": [
        {
          "output_type": "stream",
          "name": "stdout",
          "text": [
            "<class 'tuple'>\n",
            "<class 'tuple'>\n",
            "(1, 2, 3, '1', '2', '3')\n"
          ]
        }
      ]
    },
    {
      "cell_type": "code",
      "source": [
        "#The tuples can have tuples inside them. It is called nesting\n",
        "galle=(1,2,(\"pop\",\"rock\"),(3,4))\n",
        "#similar to what he have seen the tuples work as indexes. It has the value and the key that identifies the position of that value.\n"
      ],
      "metadata": {
        "id": "L2-WaW3_i6Xd"
      },
      "execution_count": null,
      "outputs": []
    },
    {
      "cell_type": "markdown",
      "source": [
        "**List**\n",
        "\n",
        "List are represented with square brackets\n",
        "Example:\n",
        "L=[0,1,2]\n",
        "\n",
        "Similar with tuples each element can be acceses through index and can manage also nesting. \\\n",
        "\n",
        "Meaning you can have lists of lists. \n",
        "The list can manage integers, strings.\n",
        "\n",
        "The list are muttable. They can be change.\n"
      ],
      "metadata": {
        "id": "UZgBWfzaoUY9"
      }
    },
    {
      "cell_type": "code",
      "source": [
        "#example to erase in list or tuples\n",
        "a=[0,1,2,3]\n",
        "del(a[1])\n",
        "print(a)\n",
        "\n",
        "#The function del can help to erase the elements of a list or a tuple"
      ],
      "metadata": {
        "colab": {
          "base_uri": "https://localhost:8080/"
        },
        "id": "kyOxNC-XoKL6",
        "outputId": "f06e2f3f-36ce-48fc-e918-6d43edeac327"
      },
      "execution_count": null,
      "outputs": [
        {
          "output_type": "stream",
          "name": "stdout",
          "text": [
            "[0, 2, 3]\n"
          ]
        }
      ]
    },
    {
      "cell_type": "code",
      "source": [
        "B=[\"a\",\"b\",\"c\"]\n",
        "B[1:]\n"
      ],
      "metadata": {
        "colab": {
          "base_uri": "https://localhost:8080/"
        },
        "id": "e53DzFQ1AaMK",
        "outputId": "13a70fb7-78c3-4e9f-dd19-8c10d64cacff"
      },
      "execution_count": null,
      "outputs": [
        {
          "output_type": "execute_result",
          "data": {
            "text/plain": [
              "['b', 'c']"
            ]
          },
          "metadata": {},
          "execution_count": 9
        }
      ]
    },
    {
      "cell_type": "markdown",
      "source": [
        "**Sets**\n",
        "\n",
        "Are a tyoe of collection\n",
        "\n",
        "They do not record position\n",
        "\n",
        "They only have unique elements\n",
        "\n",
        "*Example of a set*\n",
        "Set1={\"pop\",\"rock\",\"soul\",\"rock\"}\n",
        "\n"
      ],
      "metadata": {
        "id": "DBJ7D-HmVcX-"
      }
    },
    {
      "cell_type": "code",
      "source": [
        "set1={\"pop\",\"rock\",\"soul\",\"rock\"}\n"
      ],
      "metadata": {
        "id": "ZSt0z3rMGDWj"
      },
      "execution_count": 1,
      "outputs": []
    },
    {
      "cell_type": "code",
      "source": [
        "print(set1)"
      ],
      "metadata": {
        "colab": {
          "base_uri": "https://localhost:8080/"
        },
        "id": "7TKIEGGbWLae",
        "outputId": "b356d05b-0e5b-4c26-f5d5-d53161567606"
      },
      "execution_count": 2,
      "outputs": [
        {
          "output_type": "stream",
          "name": "stdout",
          "text": [
            "{'soul', 'pop', 'rock'}\n"
          ]
        }
      ]
    },
    {
      "cell_type": "markdown",
      "source": [
        "Using typecasting you can convert a list into a set. using the function set()"
      ],
      "metadata": {
        "id": "rvkZk4XhWVwa"
      }
    },
    {
      "cell_type": "code",
      "source": [
        " album_list=[\"nirvana\", 'strokes', 'beatles', 'strokes']\n",
        " album_set=set(album_list)\n",
        " print(album_set)"
      ],
      "metadata": {
        "colab": {
          "base_uri": "https://localhost:8080/"
        },
        "id": "KYDSb3R6WNCN",
        "outputId": "44136e44-ab89-4ecc-93b2-33273ba011da"
      },
      "execution_count": 4,
      "outputs": [
        {
          "output_type": "stream",
          "name": "stdout",
          "text": [
            "{'beatles', 'strokes', 'nirvana'}\n"
          ]
        }
      ]
    },
    {
      "cell_type": "markdown",
      "source": [
        "**Set operations**\n",
        "\n",
        "You can use the methods of list like add() or remove() to erase stuff from sets.\n"
      ],
      "metadata": {
        "id": "wRqDl1weXkO4"
      }
    },
    {
      "cell_type": "code",
      "source": [
        "S={'A','B','C'}\n",
        "\n",
        "U={'A','Z','C'}\n",
        "\n",
        "U.union(S)"
      ],
      "metadata": {
        "colab": {
          "base_uri": "https://localhost:8080/"
        },
        "id": "XSFvJN8FXB85",
        "outputId": "d044a57a-ee0d-4654-b8e4-9b476b1a4a8b"
      },
      "execution_count": 5,
      "outputs": [
        {
          "output_type": "execute_result",
          "data": {
            "text/plain": [
              "{'A', 'B', 'C', 'Z'}"
            ]
          },
          "metadata": {},
          "execution_count": 5
        }
      ]
    },
    {
      "cell_type": "markdown",
      "source": [
        "**Dictionaries**\n",
        "\n",
        "The dictionaries are similar to what we know about the famous lists. In the list we have the element and their index. In the case of dictionaries our index does not has to be an integer in assending position. You choose the key (this is how we will call our indexes on dictionaries)\n",
        "\n",
        "Example of a dictionary=\n",
        "dic1={\"a\":1,\"b\":2,\"c\":3,\"d\":4}"
      ],
      "metadata": {
        "id": "kfJUYp66a-ql"
      }
    },
    {
      "cell_type": "code",
      "source": [
        "Dict={\"A\":1,\"B\":\"2\",\"C\":[3,3,3],\"D\":(4,4,4),'E':5,'F':6}\n",
        "Dict[\"D\"]"
      ],
      "metadata": {
        "colab": {
          "base_uri": "https://localhost:8080/"
        },
        "id": "6NekPHzsZ9n5",
        "outputId": "941dffda-0fa8-4cf6-a051-bf3b093790cc"
      },
      "execution_count": 1,
      "outputs": [
        {
          "output_type": "execute_result",
          "data": {
            "text/plain": [
              "(4, 4, 4)"
            ]
          },
          "metadata": {},
          "execution_count": 1
        }
      ]
    },
    {
      "cell_type": "code",
      "source": [],
      "metadata": {
        "id": "aoHYtdIpvs2L"
      },
      "execution_count": null,
      "outputs": []
    }
  ]
}
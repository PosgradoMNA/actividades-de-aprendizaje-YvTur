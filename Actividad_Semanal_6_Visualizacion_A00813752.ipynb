{
  "nbformat": 4,
  "nbformat_minor": 0,
  "metadata": {
    "colab": {
      "provenance": [],
      "authorship_tag": "ABX9TyNv2bs3/yqXmtYQEvpzj7Ew",
      "include_colab_link": true
    },
    "kernelspec": {
      "name": "python3",
      "display_name": "Python 3"
    },
    "language_info": {
      "name": "python"
    }
  },
  "cells": [
    {
      "cell_type": "markdown",
      "metadata": {
        "id": "view-in-github",
        "colab_type": "text"
      },
      "source": [
        "<a href=\"https://colab.research.google.com/github/PosgradoMNA/actividades-de-aprendizaje-YvTur/blob/main/Actividad_Semanal_6_Visualizacion_A00813752.ipynb\" target=\"_parent\"><img src=\"https://colab.research.google.com/assets/colab-badge.svg\" alt=\"Open In Colab\"/></a>"
      ]
    },
    {
      "cell_type": "markdown",
      "source": [
        "#Visualizacion"
      ],
      "metadata": {
        "id": "eZe0B-twXgBL"
      }
    },
    {
      "cell_type": "code",
      "source": [],
      "metadata": {
        "id": "dyhHmdMEXi9A"
      },
      "execution_count": null,
      "outputs": []
    }
  ]
}
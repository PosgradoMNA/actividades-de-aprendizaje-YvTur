{
  "nbformat": 4,
  "nbformat_minor": 0,
  "metadata": {
    "colab": {
      "provenance": [],
      "authorship_tag": "ABX9TyMEyptwCPf5Xus3one6U8oD",
      "include_colab_link": true
    },
    "kernelspec": {
      "name": "python3",
      "display_name": "Python 3"
    },
    "language_info": {
      "name": "python"
    }
  },
  "cells": [
    {
      "cell_type": "markdown",
      "metadata": {
        "id": "view-in-github",
        "colab_type": "text"
      },
      "source": [
        "<a href=\"https://colab.research.google.com/github/PosgradoMNA/actividades-de-aprendizaje-YvTur/blob/main/Semana_1_Modulo1_a00813752.ipynb\" target=\"_parent\"><img src=\"https://colab.research.google.com/assets/colab-badge.svg\" alt=\"Open In Colab\"/></a>"
      ]
    },
    {
      "cell_type": "markdown",
      "source": [
        "The following exercises are from a course of IBM as a requisite from the Data Science course at ITESM in the masters degree of Artificial Intelligence. "
      ],
      "metadata": {
        "id": "gdQ10F8Ck0UI"
      }
    },
    {
      "cell_type": "markdown",
      "source": [
        "# Python 101 for Data Science"
      ],
      "metadata": {
        "id": "EG-deT5Si-ST"
      }
    },
    {
      "cell_type": "markdown",
      "source": [
        "## Module 1 - Python Basics\n"
      ],
      "metadata": {
        "id": "1uWPgpCSjKSe"
      }
    },
    {
      "cell_type": "markdown",
      "source": [
        "**First program in python**\n"
      ],
      "metadata": {
        "id": "Zm7So9uMjSY9"
      }
    },
    {
      "cell_type": "code",
      "source": [
        "#We are goint to print hello world\n",
        "print(\"Hello World\")\n",
        "#We are going to print a hello world within two lines\n",
        "print(\"Hello\\nWorld\")\n",
        "#Print the same expression with simple comas\n",
        "print('hello world')"
      ],
      "metadata": {
        "colab": {
          "base_uri": "https://localhost:8080/"
        },
        "id": "JGRkSj6Xj_3q",
        "outputId": "5d9b907b-adbf-4e0d-a9b7-2d629beddbe4"
      },
      "execution_count": 4,
      "outputs": [
        {
          "output_type": "stream",
          "name": "stdout",
          "text": [
            "Hello World\n",
            "Hello\n",
            "World\n",
            "hello world\n"
          ]
        }
      ]
    },
    {
      "cell_type": "markdown",
      "source": [
        "**Types of Data**\n",
        "\n",
        "**String**=All the alfanumerical, they are represented but does not represent their own value. you can have a 10, but it will be read as a characters not as the value 10. \n",
        "\n",
        "**int**= real numbers, all rounded up. No decimals.\n",
        "\n",
        "**float**=all numbers that have a decimal even the ones like 1.0.\n",
        "\n",
        "**Boolean**= One or zero. It is more use to represent true or false. \n",
        "\n"
      ],
      "metadata": {
        "id": "YbFJ11IInvx0"
      }
    },
    {
      "cell_type": "code",
      "source": [
        "#Exercise. Convert the number one into a boolean\n",
        "bool(1)"
      ],
      "metadata": {
        "colab": {
          "base_uri": "https://localhost:8080/"
        },
        "id": "IF-8tEjCkFSZ",
        "outputId": "83039cee-ce96-465e-aef6-cd420716b0f4"
      },
      "execution_count": 5,
      "outputs": [
        {
          "output_type": "execute_result",
          "data": {
            "text/plain": [
              "True"
            ]
          },
          "metadata": {},
          "execution_count": 5
        }
      ]
    },
    {
      "cell_type": "markdown",
      "source": [
        "**Expressions: Mathematical operations**\n",
        "\n",
        "Operations:\n",
        "\n",
        "x + y\t----> Sum of x and y\n",
        "\n",
        "x - y ----> Difference of x and y\n",
        "\n",
        "-x\t  ----> Changed sign of x\n",
        "\n",
        "+x\t  ----> Identity of x\n",
        "\n",
        "x * y ---->\tProduct of x and y\n",
        "\n",
        "x / y\t----> Quotient of x and y\n",
        "\n",
        "x // y---->\tQuotient from floor division of x and y\n",
        "\n",
        "x % y ---->\tRemainder of x / y\n",
        "\n",
        "x ** y---->\tx to the y power"
      ],
      "metadata": {
        "id": "kVFGi5byvbAg"
      }
    },
    {
      "cell_type": "markdown",
      "source": [
        "**Variable**\n",
        "\n",
        "In python the variables are just to declare the name of the variable and add the equal sign. A nice feature of python is the no need of specify the type of data.\n"
      ],
      "metadata": {
        "id": "8xWnfLhfwraA"
      }
    },
    {
      "cell_type": "code",
      "source": [
        "#example of variables\n",
        "total_min=43+42\n",
        "total_hr=total_min/60\n",
        "print(total_hr)\n"
      ],
      "metadata": {
        "colab": {
          "base_uri": "https://localhost:8080/"
        },
        "id": "LCFrjs324dTu",
        "outputId": "d6835bc9-5d7a-42ea-a821-7b1cc326d9b0"
      },
      "execution_count": 8,
      "outputs": [
        {
          "output_type": "stream",
          "name": "stdout",
          "text": [
            "1.4166666666666667\n"
          ]
        }
      ]
    },
    {
      "cell_type": "markdown",
      "source": [
        "**String Operations**\n",
        "\n",
        "Python has a set of built-in methods that you can use on strings.\n",
        "\n",
        "Example: \n",
        "\n",
        "capitalize()\tConverts the first character to upper case\n",
        "\n",
        "casefold()\tConverts string into lower case\n",
        "\n",
        "count()\tReturns the number of times a specified value occurs in a string"
      ],
      "metadata": {
        "id": "42L2VJvYd4I0"
      }
    },
    {
      "cell_type": "code",
      "source": [
        "\"0123456\".find('1')"
      ],
      "metadata": {
        "colab": {
          "base_uri": "https://localhost:8080/"
        },
        "id": "m6T8h-hMefd0",
        "outputId": "9d657982-f112-4117-910f-8d01c2fdb3a5"
      },
      "execution_count": 11,
      "outputs": [
        {
          "output_type": "execute_result",
          "data": {
            "text/plain": [
              "1"
            ]
          },
          "metadata": {},
          "execution_count": 11
        }
      ]
    },
    {
      "cell_type": "code",
      "source": [
        "var = '01234567'\n",
        "print(var[::2])\n",
        "\n",
        "\n"
      ],
      "metadata": {
        "colab": {
          "base_uri": "https://localhost:8080/"
        },
        "id": "EzmJWQiQetgS",
        "outputId": "baa5e6e6-4ab7-4dda-c5fb-01a12e22e7bc"
      },
      "execution_count": 13,
      "outputs": [
        {
          "output_type": "stream",
          "name": "stdout",
          "text": [
            "0246\n"
          ]
        }
      ]
    },
    {
      "cell_type": "code",
      "source": [
        "myvar = 'hello'\n",
        "myvar.upper()"
      ],
      "metadata": {
        "colab": {
          "base_uri": "https://localhost:8080/",
          "height": 35
        },
        "id": "uMiWSsq5gFOp",
        "outputId": "0f766588-4b3d-4bb2-d620-7b06f9932e64"
      },
      "execution_count": 14,
      "outputs": [
        {
          "output_type": "execute_result",
          "data": {
            "text/plain": [
              "'HELLO'"
            ],
            "application/vnd.google.colaboratory.intrinsic+json": {
              "type": "string"
            }
          },
          "metadata": {},
          "execution_count": 14
        }
      ]
    },
    {
      "cell_type": "code",
      "source": [],
      "metadata": {
        "id": "LNASGgj7gOcd"
      },
      "execution_count": null,
      "outputs": []
    }
  ]
}
{
  "nbformat": 4,
  "nbformat_minor": 0,
  "metadata": {
    "colab": {
      "provenance": [],
      "authorship_tag": "ABX9TyN2AY5cdd8bbhjYOJ/yCJGF",
      "include_colab_link": true
    },
    "kernelspec": {
      "name": "python3",
      "display_name": "Python 3"
    },
    "language_info": {
      "name": "python"
    }
  },
  "cells": [
    {
      "cell_type": "markdown",
      "metadata": {
        "id": "view-in-github",
        "colab_type": "text"
      },
      "source": [
        "<a href=\"https://colab.research.google.com/github/PosgradoMNA/actividades-de-aprendizaje-YvTur/blob/main/Semana2_Modulo4_a00813752.ipynb\" target=\"_parent\"><img src=\"https://colab.research.google.com/assets/colab-badge.svg\" alt=\"Open In Colab\"/></a>"
      ]
    },
    {
      "cell_type": "markdown",
      "source": [
        "# Python 101 for Data Science"
      ],
      "metadata": {
        "id": "YzDXnMznelco"
      }
    },
    {
      "cell_type": "markdown",
      "source": [
        "## Module 4 - Working with data"
      ],
      "metadata": {
        "id": "4aJEQve3erlU"
      }
    },
    {
      "cell_type": "markdown",
      "source": [
        "### Python manage files tools"
      ],
      "metadata": {
        "id": "u8cKfzVve3AL"
      }
    },
    {
      "cell_type": "markdown",
      "source": [
        "**Reading files using python**\n",
        "\n",
        "It is very common the need of manage files on python. Due the reading or writing of such files. Specially when you are  working on topics realated to management \n",
        "\n",
        "Example:\n",
        "\n",
        "file1=open(\"/desktop/file.txt\",\"r\")\n",
        "\n",
        "The w is the mode. It means Write\n",
        "\n",
        "We can replate it for an r, which will mean read. \n",
        "\n",
        "We can replate it for an a, wich will mean append "
      ],
      "metadata": {
        "id": "w5rLtysbNMGa"
      }
    },
    {
      "cell_type": "markdown",
      "source": [
        "**Functions for manage files**\n",
        "\n",
        "file1.name --> provide the name\n",
        "\n",
        "file1.mode --> provide the r, w and a\n",
        "\n",
        "file1.close--> is for closing the file, it is necessary to close it. \n",
        "\n",
        "file1.readlines() --> this method can help out to read all the lines in a file\n"
      ],
      "metadata": {
        "id": "xOUil6JBUlqZ"
      }
    },
    {
      "cell_type": "code",
      "source": [
        "#**Using with for files**\n",
        "\n",
        "with open(\"Example1.txt\",\"r\") as file1:\n",
        "  file_stuff=file1.read() #we bring it as a string the file\n",
        "  print(file_stuff) #we can print the value of the string, \n",
        "  #after the identation we can not manage the file, but we can manage the string\n"
      ],
      "metadata": {
        "id": "vDVJ-q2BV8On"
      },
      "execution_count": null,
      "outputs": []
    },
    {
      "cell_type": "markdown",
      "source": [
        "**Writing using python**\n",
        "\n",
        "When you do the following:\n",
        "\n",
        "file1=open(\"/desktop/file1.txt\",\"w\")  \n",
        "\n",
        "You will actually create the file, in case the file does not exist you will over write over it. \n",
        "\n",
        "\n",
        "*Example on how to write over inside the file: *\n",
        "\n",
        "with open(\"desktop/file1.txt\",\"w\")\n",
        "  file1.write(\"prueba de codigo en el file \")\n",
        "  "
      ],
      "metadata": {
        "id": "3ryh3M2OWCT3"
      }
    },
    {
      "cell_type": "markdown",
      "source": [
        "Append using python\n",
        "\n",
        "After reading the past notes, you might realize. What happen if I dont want to overwrite a file or create a new one. instead to modify an existing file. \n",
        "\n",
        "Well for that is the use of the append funciton. \n",
        "\n",
        "file1=open(\"/desktop/file2.txt\",\"a\")\n",
        "\n"
      ],
      "metadata": {
        "id": "iNG7C0bVaGGs"
      }
    },
    {
      "cell_type": "code",
      "source": [
        "#The following code is to copy from one file into the other. You can used it as  you wish. \n",
        "with open(\"Example1.txt\",\"r\") as readfile:\n",
        "  with open (\"Example2.txt\",\"w\") as writefile:\n",
        "    for line in readfiles:\n",
        "      writefile.write(line)"
      ],
      "metadata": {
        "id": "cDGoHmKaaF1f"
      },
      "execution_count": null,
      "outputs": []
    },
    {
      "cell_type": "markdown",
      "source": [
        "### Pandas\n"
      ],
      "metadata": {
        "id": "GyWQxTq2eZUY"
      }
    },
    {
      "cell_type": "markdown",
      "source": [
        "Pandas is a library that allows data analysis "
      ],
      "metadata": {
        "id": "cS7sVciQgKYX"
      }
    },
    {
      "cell_type": "code",
      "source": [
        "#There are this things call libraries, which included a buch of pre built classes and methods\n",
        "#yeah, code that we do need to learn to make, only to use. In case my teacher is reviewing this. HI!! \n",
        "\n",
        "#example of code of pandas to read a csv file \n",
        "import pandas as pd\n",
        "csv_path=\"file1.csv\"\n",
        "df=pd.read_csv(csv_path)\n"
      ],
      "metadata": {
        "id": "d9SqnX3JjSwJ"
      },
      "execution_count": 5,
      "outputs": []
    },
    {
      "cell_type": "code",
      "source": [
        "import pandas as banana\n",
        "\n",
        "df=banana.DataFrame({'a':[11,21,31],'b':[21,22,23]})\n",
        "\n",
        "df.head()"
      ],
      "metadata": {
        "colab": {
          "base_uri": "https://localhost:8080/",
          "height": 143
        },
        "id": "cp-8JahIjP10",
        "outputId": "c1975e09-bea1-4f31-fa63-cc221744d623"
      },
      "execution_count": 5,
      "outputs": [
        {
          "output_type": "execute_result",
          "data": {
            "text/plain": [
              "    a   b\n",
              "0  11  21\n",
              "1  21  22\n",
              "2  31  23"
            ],
            "text/html": [
              "\n",
              "  <div id=\"df-4bf5def6-b34b-44ce-9168-2e23b1341d81\">\n",
              "    <div class=\"colab-df-container\">\n",
              "      <div>\n",
              "<style scoped>\n",
              "    .dataframe tbody tr th:only-of-type {\n",
              "        vertical-align: middle;\n",
              "    }\n",
              "\n",
              "    .dataframe tbody tr th {\n",
              "        vertical-align: top;\n",
              "    }\n",
              "\n",
              "    .dataframe thead th {\n",
              "        text-align: right;\n",
              "    }\n",
              "</style>\n",
              "<table border=\"1\" class=\"dataframe\">\n",
              "  <thead>\n",
              "    <tr style=\"text-align: right;\">\n",
              "      <th></th>\n",
              "      <th>a</th>\n",
              "      <th>b</th>\n",
              "    </tr>\n",
              "  </thead>\n",
              "  <tbody>\n",
              "    <tr>\n",
              "      <th>0</th>\n",
              "      <td>11</td>\n",
              "      <td>21</td>\n",
              "    </tr>\n",
              "    <tr>\n",
              "      <th>1</th>\n",
              "      <td>21</td>\n",
              "      <td>22</td>\n",
              "    </tr>\n",
              "    <tr>\n",
              "      <th>2</th>\n",
              "      <td>31</td>\n",
              "      <td>23</td>\n",
              "    </tr>\n",
              "  </tbody>\n",
              "</table>\n",
              "</div>\n",
              "      <button class=\"colab-df-convert\" onclick=\"convertToInteractive('df-4bf5def6-b34b-44ce-9168-2e23b1341d81')\"\n",
              "              title=\"Convert this dataframe to an interactive table.\"\n",
              "              style=\"display:none;\">\n",
              "        \n",
              "  <svg xmlns=\"http://www.w3.org/2000/svg\" height=\"24px\"viewBox=\"0 0 24 24\"\n",
              "       width=\"24px\">\n",
              "    <path d=\"M0 0h24v24H0V0z\" fill=\"none\"/>\n",
              "    <path d=\"M18.56 5.44l.94 2.06.94-2.06 2.06-.94-2.06-.94-.94-2.06-.94 2.06-2.06.94zm-11 1L8.5 8.5l.94-2.06 2.06-.94-2.06-.94L8.5 2.5l-.94 2.06-2.06.94zm10 10l.94 2.06.94-2.06 2.06-.94-2.06-.94-.94-2.06-.94 2.06-2.06.94z\"/><path d=\"M17.41 7.96l-1.37-1.37c-.4-.4-.92-.59-1.43-.59-.52 0-1.04.2-1.43.59L10.3 9.45l-7.72 7.72c-.78.78-.78 2.05 0 2.83L4 21.41c.39.39.9.59 1.41.59.51 0 1.02-.2 1.41-.59l7.78-7.78 2.81-2.81c.8-.78.8-2.07 0-2.86zM5.41 20L4 18.59l7.72-7.72 1.47 1.35L5.41 20z\"/>\n",
              "  </svg>\n",
              "      </button>\n",
              "      \n",
              "  <style>\n",
              "    .colab-df-container {\n",
              "      display:flex;\n",
              "      flex-wrap:wrap;\n",
              "      gap: 12px;\n",
              "    }\n",
              "\n",
              "    .colab-df-convert {\n",
              "      background-color: #E8F0FE;\n",
              "      border: none;\n",
              "      border-radius: 50%;\n",
              "      cursor: pointer;\n",
              "      display: none;\n",
              "      fill: #1967D2;\n",
              "      height: 32px;\n",
              "      padding: 0 0 0 0;\n",
              "      width: 32px;\n",
              "    }\n",
              "\n",
              "    .colab-df-convert:hover {\n",
              "      background-color: #E2EBFA;\n",
              "      box-shadow: 0px 1px 2px rgba(60, 64, 67, 0.3), 0px 1px 3px 1px rgba(60, 64, 67, 0.15);\n",
              "      fill: #174EA6;\n",
              "    }\n",
              "\n",
              "    [theme=dark] .colab-df-convert {\n",
              "      background-color: #3B4455;\n",
              "      fill: #D2E3FC;\n",
              "    }\n",
              "\n",
              "    [theme=dark] .colab-df-convert:hover {\n",
              "      background-color: #434B5C;\n",
              "      box-shadow: 0px 1px 3px 1px rgba(0, 0, 0, 0.15);\n",
              "      filter: drop-shadow(0px 1px 2px rgba(0, 0, 0, 0.3));\n",
              "      fill: #FFFFFF;\n",
              "    }\n",
              "  </style>\n",
              "\n",
              "      <script>\n",
              "        const buttonEl =\n",
              "          document.querySelector('#df-4bf5def6-b34b-44ce-9168-2e23b1341d81 button.colab-df-convert');\n",
              "        buttonEl.style.display =\n",
              "          google.colab.kernel.accessAllowed ? 'block' : 'none';\n",
              "\n",
              "        async function convertToInteractive(key) {\n",
              "          const element = document.querySelector('#df-4bf5def6-b34b-44ce-9168-2e23b1341d81');\n",
              "          const dataTable =\n",
              "            await google.colab.kernel.invokeFunction('convertToInteractive',\n",
              "                                                     [key], {});\n",
              "          if (!dataTable) return;\n",
              "\n",
              "          const docLinkHtml = 'Like what you see? Visit the ' +\n",
              "            '<a target=\"_blank\" href=https://colab.research.google.com/notebooks/data_table.ipynb>data table notebook</a>'\n",
              "            + ' to learn more about interactive tables.';\n",
              "          element.innerHTML = '';\n",
              "          dataTable['output_type'] = 'display_data';\n",
              "          await google.colab.output.renderOutput(dataTable, element);\n",
              "          const docLink = document.createElement('div');\n",
              "          docLink.innerHTML = docLinkHtml;\n",
              "          element.appendChild(docLink);\n",
              "        }\n",
              "      </script>\n",
              "    </div>\n",
              "  </div>\n",
              "  "
            ]
          },
          "metadata": {},
          "execution_count": 5
        }
      ]
    },
    {
      "cell_type": "markdown",
      "source": [
        "**List Unique Values**\n",
        "\n",
        "Pandas has a method that let us extract unique values from the dataframe.\n",
        "We are analyzing a specific column and extracting only the values that do not repeat. \n",
        "\n",
        "Code example:\n",
        "\n",
        "  *df['Name of the column'].unique*"
      ],
      "metadata": {
        "id": "nt3-qvl5_b6a"
      }
    },
    {
      "cell_type": "code",
      "source": [
        "#df['Name of the column'].unique"
      ],
      "metadata": {
        "id": "xStGS8fkjTjS"
      },
      "execution_count": 1,
      "outputs": []
    },
    {
      "cell_type": "markdown",
      "source": [
        "In case that you are interested on a range of data in the specific column you can use the following extract code:\n",
        "\n",
        "df['Name of the column']>=1980\n"
      ],
      "metadata": {
        "id": "lxRGJqYYczut"
      }
    },
    {
      "cell_type": "code",
      "source": [
        "#df['Name of the column']>=1980"
      ],
      "metadata": {
        "id": "0RYjA8S-cnmc"
      },
      "execution_count": 2,
      "outputs": []
    },
    {
      "cell_type": "markdown",
      "source": [
        "In case that you want to generate a new table you can a proper dataframe from the dataset you can do the following code\n",
        "\n",
        "*Example of code:* \n",
        "\n",
        "*df1=df[df['Name of the column']>=1980]*\n",
        "\n"
      ],
      "metadata": {
        "id": "BtaIE22GeFH-"
      }
    },
    {
      "cell_type": "code",
      "source": [
        "#df1=df[df['Name of the column']>=1980]"
      ],
      "metadata": {
        "id": "6Quq9AJCeEWN"
      },
      "execution_count": 3,
      "outputs": []
    },
    {
      "cell_type": "markdown",
      "source": [
        "Now that I have a new dataframe extracted from my dataset. I want to make a csv with this data frame.\n",
        "\n",
        "*Example of code*\n",
        "\n",
        "df1.to_csv(\"new_songs.csv\")"
      ],
      "metadata": {
        "id": "7r9mEaQUfkbR"
      }
    },
    {
      "cell_type": "code",
      "source": [
        "#EXERCISE using pandas\n",
        "df=pd.DataFrame({'a':[1,2,1],'b':[1,1,1]})\n",
        "\n",
        "df['a']==1 "
      ],
      "metadata": {
        "colab": {
          "base_uri": "https://localhost:8080/"
        },
        "id": "Yl7hAGNPfBWb",
        "outputId": "162f9031-929a-4ec7-fbf3-7e44dfae09d2"
      },
      "execution_count": 6,
      "outputs": [
        {
          "output_type": "execute_result",
          "data": {
            "text/plain": [
              "0     True\n",
              "1    False\n",
              "2     True\n",
              "Name: a, dtype: bool"
            ]
          },
          "metadata": {},
          "execution_count": 6
        }
      ]
    }
  ]
}